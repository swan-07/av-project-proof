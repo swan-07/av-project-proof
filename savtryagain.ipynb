{
 "cells": [
  {
   "cell_type": "code",
   "execution_count": 3,
   "id": "fb6f5fe9-396b-4bf3-96b1-e1b91e30cb46",
   "metadata": {},
   "outputs": [],
   "source": [
    "import importlib\n",
    "import random\n",
    "from sklearn.metrics import precision_recall_fscore_support\n",
    "from authorship_attribution import assert_opt_in\n",
    "from model.pair_impostors import PairImpostors, minmax, optimize_sigma, cosine, _impostors_task_sav\n",
    "from utils.result_manager import SAVResult, check_if_already_performed, count_results\n",
    "from feature_extraction.author_vectorizer1 import FeatureExtractor\n",
    "from model.pair_classification import PairAAClassifier, DistanceSAVClassifier, PairSAVClassifier\n",
    "from utils.evaluation import *\n",
    "import os\n",
    "from utils.common import get_verification_coordinates, get_parallel_slices, random_sample, prepare_learner\n",
    "\n",
    "import argparse\n",
    "from tqdm import tqdm\n",
    "import pickle\n",
    "from sklearn.base import clone\n",
    "from joblib import Parallel, delayed\n",
    "import itertools\n",
    "import pathlib\n",
    "from tqdm import tqdm"
   ]
  },
  {
   "cell_type": "code",
   "execution_count": 4,
   "id": "3be05342-4b57-4318-8196-922efbc55f8e",
   "metadata": {},
   "outputs": [],
   "source": [
    "def process_data(train, test, rawfreq=False):\n",
    "    Xtr = []\n",
    "    ytr = []\n",
    "    Xte = []\n",
    "    yte = []\n",
    "    \n",
    "    # Processing training data with a progress bar\n",
    "    print(\"Processing training data...\")\n",
    "    for row in tqdm(train, desc=\"Training data\"):\n",
    "        Xtr.append(f\"{row['text1']} {row['text2']}\")\n",
    "        ytr.append(row['score'])\n",
    "    \n",
    "    # Processing testing data with a progress bar\n",
    "    print(\"Processing testing data...\")\n",
    "    for row in tqdm(test, desc=\"Testing data\"):\n",
    "        Xte.append(f\"{row['text1']} {row['text2']}\")\n",
    "        yte.append(row['score'])\n",
    "    \n",
    "    # Feature extraction\n",
    "    print(f'using raw_freq = {rawfreq}')\n",
    "    vectorizer = FeatureExtractor('english', cleaning=False, use_raw_frequencies=rawfreq,\n",
    "                                  function_words=True,\n",
    "                                  word_lengths=True,\n",
    "                                  sentence_lengths=True,\n",
    "                                  punctuation=True,\n",
    "                                  post_ngrams=True,\n",
    "                                  word_ngrams=True,\n",
    "                                  char_ngrams=True)\n",
    "    print(\"Fitting vectorizer on training data...\")\n",
    "    Xtr = vectorizer.fit_transform(Xtr, ytr)\n",
    "\n",
    "    print(\"Transforming testing data...\")\n",
    "    Xte = vectorizer.transform(Xte, None)\n",
    "    \n",
    "    return Xtr, ytr, Xte, yte\n"
   ]
  },
  {
   "cell_type": "code",
   "execution_count": 5,
   "id": "f522b300-a5c3-4740-82b7-f3175b2703da",
   "metadata": {},
   "outputs": [],
   "source": [
    "with open('/workspace/train.pkl', 'rb') as f:\n",
    "    train_df = pickle.load(f)\n",
    "with open('/workspace/val.pkl', 'rb') as f:\n",
    "    test_df = pickle.load(f)"
   ]
  },
  {
   "cell_type": "code",
   "execution_count": 11,
   "id": "486e6d23-fd82-41c9-ab89-45beb0f04108",
   "metadata": {},
   "outputs": [],
   "source": [
    "train = train_df\n",
    "test = test_df"
   ]
  },
  {
   "cell_type": "code",
   "execution_count": null,
   "id": "00c0b3c6-aa51-400b-ba53-e1a76d30cc95",
   "metadata": {
    "scrolled": true
   },
   "outputs": [
    {
     "name": "stdout",
     "output_type": "stream",
     "text": [
      "Processing training data...\n"
     ]
    },
    {
     "name": "stderr",
     "output_type": "stream",
     "text": [
      "Training data: 100%|██████████| 325288/325288 [00:21<00:00, 15484.53it/s]\n"
     ]
    },
    {
     "name": "stdout",
     "output_type": "stream",
     "text": [
      "Processing testing data...\n"
     ]
    },
    {
     "name": "stderr",
     "output_type": "stream",
     "text": [
      "Testing data: 100%|██████████| 30781/30781 [00:01<00:00, 18872.43it/s]\n"
     ]
    },
    {
     "name": "stdout",
     "output_type": "stream",
     "text": [
      "using raw_freq = False\n",
      "Fitting vectorizer on training data...\n"
     ]
    },
    {
     "name": "stderr",
     "output_type": "stream",
     "text": [
      "POST job 0: 100%|██████████| 1275/1275 [00:38<00:00, 33.36it/s]]\n",
      "POST job 11: 100%|██████████| 1275/1275 [00:39<00:00, 31.91it/s]\n",
      "POST job 22: 100%|██████████| 1275/1275 [00:41<00:00, 30.76it/s]\n",
      "POST job 20: 100%|██████████| 1275/1275 [00:41<00:00, 30.60it/s]\n",
      "POST job 18: 100%|██████████| 1275/1275 [00:41<00:00, 30.40it/s]\n",
      "POST job 13: 100%|██████████| 1275/1275 [00:42<00:00, 30.26it/s]\n",
      "POST job 16: 100%|██████████| 1275/1275 [00:42<00:00, 30.32it/s]\n",
      "POST job 15: 100%|██████████| 1275/1275 [00:41<00:00, 30.71it/s]\n",
      "POST job 24: 100%|██████████| 1275/1275 [00:41<00:00, 30.37it/s]\n",
      "POST job 3: 100%|██████████| 1275/1275 [00:42<00:00, 30.25it/s]\n",
      "POST job 8: 100%|██████████| 1275/1275 [00:41<00:00, 30.69it/s]]\n",
      "POST job 2: 100%|██████████| 1275/1275 [00:42<00:00, 30.17it/s]]\n",
      "POST job 26: 100%|██████████| 1275/1275 [00:42<00:00, 30.15it/s]\n",
      "POST job 6: 100%|██████████| 1275/1275 [00:42<00:00, 29.87it/s]]\n",
      "POST job 1: 100%|██████████| 1275/1275 [00:43<00:00, 29.62it/s]]\n",
      "POST job 23: 100%|██████████| 1275/1275 [00:42<00:00, 29.75it/s]\n",
      "POST job 10: 100%|██████████| 1275/1275 [00:43<00:00, 29.59it/s]\n",
      "POST job 14: 100%|██████████| 1275/1275 [00:42<00:00, 29.68it/s]\n",
      "POST job 19: 100%|██████████| 1275/1275 [00:43<00:00, 29.18it/s]\n",
      "POST job 7: 100%|██████████| 1275/1275 [00:43<00:00, 29.30it/s]]\n",
      "POST job 5: 100%|██████████| 1275/1275 [00:43<00:00, 29.05it/s]]\n",
      "POST job 25: 100%|██████████| 1275/1275 [00:43<00:00, 29.03it/s]\n",
      "POST job 17: 100%|██████████| 1275/1275 [00:43<00:00, 29.04it/s]\n",
      "POST job 12: 100%|██████████| 1275/1275 [00:44<00:00, 28.84it/s]\n",
      "POST job 4: 100%|██████████| 1275/1275 [00:44<00:00, 28.64it/s]]\n",
      "POST job 9: 100%|██████████| 1275/1275 [00:44<00:00, 28.56it/s]]\n",
      "POST job 21: 100%|██████████| 1275/1275 [00:44<00:00, 28.52it/s]\n",
      "POST job 27: 100%|██████████| 1275/1275 [00:45<00:00, 27.92it/s]\n",
      "POST job 51: 100%|██████████| 1275/1275 [00:12<00:00, 98.60it/s]]\n",
      "POST job 52: 100%|██████████| 1275/1275 [00:14<00:00, 88.50it/s] \n",
      "POST job 50: 100%|██████████| 1275/1275 [00:35<00:00, 35.53it/s] \n",
      "POST job 28: 100%|██████████| 1275/1275 [00:43<00:00, 29.10it/s]\n",
      "POST job 29: 100%|██████████| 1275/1275 [00:42<00:00, 29.82it/s]\n",
      "POST job 31: 100%|██████████| 1275/1275 [00:44<00:00, 28.97it/s]\n",
      "POST job 30: 100%|██████████| 1275/1275 [00:44<00:00, 28.65it/s]\n",
      "POST job 38: 100%|██████████| 1275/1275 [00:55<00:00, 23.07it/s]\n",
      "POST job 37: 100%|██████████| 1275/1275 [00:55<00:00, 22.77it/s]\n",
      "POST job 35: 100%|██████████| 1275/1275 [00:56<00:00, 22.68it/s]\n",
      "POST job 39: 100%|██████████| 1275/1275 [00:56<00:00, 22.69it/s]]\n",
      "POST job 36: 100%|██████████| 1275/1275 [00:56<00:00, 22.57it/s]\n",
      "POST job 41: 100%|██████████| 1275/1275 [00:56<00:00, 22.69it/s]\n",
      "POST job 44: 100%|██████████| 1275/1275 [00:55<00:00, 22.98it/s]\n",
      "POST job 40: 100%|██████████| 1275/1275 [00:56<00:00, 22.66it/s]\n",
      "POST job 34: 100%|██████████| 1275/1275 [00:56<00:00, 22.51it/s]\n",
      "POST job 47: 100%|██████████| 1275/1275 [00:54<00:00, 23.37it/s]\n",
      "POST job 43: 100%|██████████| 1275/1275 [00:55<00:00, 22.77it/s]\n",
      "POST job 45: 100%|██████████| 1275/1275 [00:55<00:00, 22.82it/s]\n",
      "POST job 46: 100%|██████████| 1275/1275 [00:56<00:00, 22.75it/s]\n",
      "POST job 49: 100%|██████████| 1275/1275 [00:55<00:00, 22.95it/s]\n",
      "POST job 42: 100%|██████████| 1275/1275 [00:57<00:00, 22.34it/s]\n",
      "POST job 48: 100%|██████████| 1275/1275 [00:56<00:00, 22.38it/s]\n",
      "POST job 32: 100%|██████████| 1275/1275 [02:26<00:00,  8.71it/s]\n",
      "POST job 33: 100%|██████████| 1275/1275 [03:18<00:00,  6.41it/s]\n",
      "POST job 53: 100%|██████████| 1275/1275 [03:16<00:00,  6.50it/s]\n",
      "POST job 54: 100%|██████████| 1275/1275 [11:50<00:00,  1.79it/s]\n",
      "POST job 55: 100%|██████████| 1275/1275 [12:42<00:00,  1.67it/s]\n",
      "POST job 60: 100%|██████████| 1275/1275 [12:09<00:00,  1.75it/s]\n",
      "POST job 62: 100%|██████████| 1275/1275 [12:09<00:00,  1.75it/s]\n",
      "POST job 57: 100%|██████████| 1275/1275 [12:37<00:00,  1.68it/s]\n",
      "POST job 56: 100%|██████████| 1275/1275 [12:39<00:00,  1.68it/s]\n",
      "POST job 61: 100%|██████████| 1275/1275 [12:11<00:00,  1.74it/s]\n",
      "POST job 74: 100%|██████████| 1275/1275 [12:07<00:00,  1.75it/s]\n",
      "POST job 71: 100%|██████████| 1275/1275 [12:09<00:00,  1.75it/s]\n",
      "POST job 75: 100%|██████████| 1275/1275 [12:14<00:00,  1.74it/s]\n",
      "POST job 58: 100%|██████████| 1275/1275 [12:34<00:00,  1.69it/s]\n",
      "POST job 64: 100%|██████████| 1275/1275 [12:17<00:00,  1.73it/s]\n",
      "POST job 67: 100%|██████████| 1275/1275 [12:17<00:00,  1.73it/s]\n",
      "POST job 72: 100%|██████████| 1275/1275 [12:19<00:00,  1.72it/s]\n",
      "POST job 70: 100%|██████████| 1275/1275 [12:22<00:00,  1.72it/s]\n",
      "POST job 66: 100%|██████████| 1275/1275 [12:40<00:00,  1.68it/s]\n",
      "POST job 68: 100%|██████████| 1275/1275 [12:41<00:00,  1.67it/s]\n",
      "POST job 63: 100%|██████████| 1275/1275 [12:43<00:00,  1.67it/s]\n",
      "POST job 73: 100%|██████████| 1275/1275 [12:41<00:00,  1.67it/s]\n",
      "POST job 65: 100%|██████████| 1275/1275 [12:43<00:00,  1.67it/s]\n",
      "POST job 59: 100%|██████████| 1275/1275 [12:59<00:00,  1.64it/s]\n",
      "POST job 69: 100%|██████████| 1275/1275 [12:43<00:00,  1.67it/s]\n",
      "POST job 76: 100%|██████████| 1275/1275 [12:43<00:00,  1.67it/s]\n",
      "POST job 78: 100%|██████████| 1275/1275 [12:43<00:00,  1.67it/s]\n",
      "POST job 77: 100%|██████████| 1275/1275 [12:47<00:00,  1.66it/s]\n",
      "POST job 79: 100%|██████████| 1275/1275 [12:18<00:00,  1.73it/s]\n",
      "POST job 80: 100%|██████████| 1275/1275 [12:10<00:00,  1.74it/s]\n",
      "POST job 81: 100%|██████████| 1275/1275 [12:39<00:00,  1.68it/s]\n",
      "POST job 82: 100%|██████████| 1275/1275 [12:24<00:00,  1.71it/s]]\n",
      "POST job 85: 100%|██████████| 1275/1275 [12:03<00:00,  1.76it/s]]\n",
      "POST job 84: 100%|██████████| 1275/1275 [12:07<00:00,  1.75it/s]]\n",
      "POST job 90: 100%|██████████| 1275/1275 [11:55<00:00,  1.78it/s]]\n",
      "POST job 89: 100%|██████████| 1275/1275 [12:00<00:00,  1.77it/s]]\n",
      "POST job 88: 100%|██████████| 1275/1275 [12:10<00:00,  1.75it/s]]\n",
      "POST job 91: 100%|██████████| 1275/1275 [11:57<00:00,  1.78it/s]]\n",
      "POST job 87: 100%|██████████| 1275/1275 [12:21<00:00,  1.72it/s]]\n",
      "POST job 93: 100%|██████████| 1275/1275 [12:03<00:00,  1.76it/s]]\n",
      "POST job 83: 100%|██████████| 1275/1275 [12:32<00:00,  1.70it/s]]\n",
      "POST job 95: 100%|██████████| 1275/1275 [12:05<00:00,  1.76it/s]]\n",
      "POST job 92: 100%|██████████| 1275/1275 [12:11<00:00,  1.74it/s]]\n",
      "POST job 86: 100%|██████████| 1275/1275 [12:29<00:00,  1.70it/s]]\n",
      "POST job 94: 100%|██████████| 1275/1275 [12:11<00:00,  1.74it/s]]\n",
      "POST job 96: 100%|██████████| 1275/1275 [12:08<00:00,  1.75it/s]]\n",
      "POST job 100: 100%|██████████| 1275/1275 [12:14<00:00,  1.73it/s]\n",
      "POST job 97: 100%|██████████| 1275/1275 [12:18<00:00,  1.73it/s]]\n",
      "POST job 105: 100%|██████████| 1275/1275 [12:13<00:00,  1.74it/s]\n",
      "POST job 98: 100%|██████████| 1275/1275 [12:21<00:00,  1.72it/s]]\n",
      "POST job 99: 100%|██████████| 1275/1275 [12:24<00:00,  1.71it/s]]\n",
      "POST job 103: 100%|██████████| 1275/1275 [12:24<00:00,  1.71it/s]\n",
      "POST job 104: 100%|██████████| 1275/1275 [12:25<00:00,  1.71it/s]\n",
      "POST job 106: 100%|██████████| 1275/1275 [12:24<00:00,  1.71it/s]\n",
      "POST job 101: 100%|██████████| 1275/1275 [12:30<00:00,  1.70it/s]\n",
      "POST job 102: 100%|██████████| 1275/1275 [12:30<00:00,  1.70it/s]\n",
      "POST job 107: 100%|██████████| 1275/1275 [12:04<00:00,  1.76it/s]\n",
      "POST job 108: 100%|██████████| 1275/1275 [12:03<00:00,  1.76it/s]\n",
      "POST job 114:  26%|██▋       | 336/1275 [03:09<08:21,  1.87it/s]]"
     ]
    }
   ],
   "source": [
    "# Process the data\n",
    "Xtr, ytr, Xte, yte = process_data(train, test, rawfreq=False)\n"
   ]
  }
 ],
 "metadata": {
  "kernelspec": {
   "display_name": "Python 3 (ipykernel)",
   "language": "python",
   "name": "python3"
  },
  "language_info": {
   "codemirror_mode": {
    "name": "ipython",
    "version": 3
   },
   "file_extension": ".py",
   "mimetype": "text/x-python",
   "name": "python",
   "nbconvert_exporter": "python",
   "pygments_lexer": "ipython3",
   "version": "3.10.12"
  }
 },
 "nbformat": 4,
 "nbformat_minor": 5
}
