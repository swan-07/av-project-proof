{
 "cells": [
  {
   "cell_type": "code",
   "execution_count": 2,
   "id": "03f74523-3819-489b-9feb-65b5709b233d",
   "metadata": {},
   "outputs": [],
   "source": [
    "import pickle \n",
    "with open('/workspace/train.pkl', 'rb') as f:\n",
    "    train_df = pickle.load(f)"
   ]
  },
  {
   "cell_type": "code",
   "execution_count": 6,
   "id": "d6150c9c-1a2f-4ad5-a368-6a4563fdf98f",
   "metadata": {},
   "outputs": [],
   "source": [
    "with open('/workspace/val.pkl', 'rb') as f:\n",
    "    val_df = pickle.load(f)"
   ]
  },
  {
   "cell_type": "code",
   "execution_count": 7,
   "id": "ca0911f2-03a3-4291-9577-cc3af750673c",
   "metadata": {},
   "outputs": [],
   "source": [
    "with open('/workspace/test.pkl', 'rb') as f:\n",
    "    test_dfs = pickle.load(f)"
   ]
  },
  {
   "cell_type": "code",
   "execution_count": 3,
   "id": "438f4065-9843-4ada-91fe-7640e445b9f2",
   "metadata": {},
   "outputs": [],
   "source": [
    "import nltk"
   ]
  },
  {
   "cell_type": "code",
   "execution_count": 4,
   "id": "7a885e3d-7b79-4005-a088-e2d3e1a69bdb",
   "metadata": {},
   "outputs": [
    {
     "name": "stderr",
     "output_type": "stream",
     "text": [
      "[nltk_data] Downloading package averaged_perceptron_tagger to\n",
      "[nltk_data]     /root/nltk_data...\n",
      "[nltk_data]   Package averaged_perceptron_tagger is already up-to-\n",
      "[nltk_data]       date!\n"
     ]
    },
    {
     "data": {
      "text/plain": [
       "True"
      ]
     },
     "execution_count": 4,
     "metadata": {},
     "output_type": "execute_result"
    }
   ],
   "source": [
    "nltk.download('averaged_perceptron_tagger')"
   ]
  },
  {
   "cell_type": "code",
   "execution_count": 5,
   "id": "85401344-3f1a-42e0-af05-c24e1695552e",
   "metadata": {},
   "outputs": [],
   "source": [
    "import os\n",
    "import pickle\n",
    "import json\n",
    "import glob\n",
    "from tqdm.auto import trange, tqdm\n",
    "import sys\n",
    "import numpy as np\n",
    "from features import prepare_entry"
   ]
  },
  {
   "cell_type": "code",
   "execution_count": 6,
   "id": "44354640-4ad0-437b-9252-c0241d88dde0",
   "metadata": {},
   "outputs": [],
   "source": [
    "train = train_df['train']"
   ]
  },
  {
   "cell_type": "code",
   "execution_count": 12,
   "id": "12b800c3-1eda-4955-bc36-f30a7dab51c3",
   "metadata": {},
   "outputs": [],
   "source": [
    "eval = val_df['train']"
   ]
  },
  {
   "cell_type": "code",
   "execution_count": 7,
   "id": "cec02b25-3992-449c-a654-acf64e3e4702",
   "metadata": {},
   "outputs": [],
   "source": [
    "def preprocess_function(examples):\n",
    "    examples['text1'] = [prepare_entry(text, mode='accurate', tokenizer='casual') for text in tqdm(examples['text1'], desc='Processing text1')]\n",
    "    examples['text2'] = [prepare_entry(text, mode='accurate', tokenizer='casual') for text in tqdm(examples['text2'], desc='Processing text2')]\n",
    "    return examples"
   ]
  },
  {
   "cell_type": "code",
   "execution_count": 8,
   "id": "db902593-a291-4d56-a7dc-41f4f3a2b91b",
   "metadata": {},
   "outputs": [],
   "source": [
    "import numpy as np\n",
    "\n",
    "def split_into_chunks(dataset, num_chunks):\n",
    "    chunk_size = len(dataset['text1']) // num_chunks\n",
    "    chunks = []\n",
    "    for i in range(num_chunks):\n",
    "        chunk = {\n",
    "            'text1': dataset['text1'][i * chunk_size:(i + 1) * chunk_size],\n",
    "            'text2': dataset['text2'][i * chunk_size:(i + 1) * chunk_size],\n",
    "            'score': dataset['score'][i * chunk_size:(i + 1) * chunk_size]\n",
    "        }\n",
    "        chunks.append(chunk)\n",
    "    return chunks\n"
   ]
  },
  {
   "cell_type": "code",
   "execution_count": 9,
   "id": "1a211a92-94a6-4cbe-882c-2a0622f808ca",
   "metadata": {},
   "outputs": [
    {
     "ename": "NameError",
     "evalue": "name 'processed_chunk_1' is not defined",
     "output_type": "error",
     "traceback": [
      "\u001b[0;31m---------------------------------------------------------------------------\u001b[0m",
      "\u001b[0;31mNameError\u001b[0m                                 Traceback (most recent call last)",
      "Cell \u001b[0;32mIn[9], line 11\u001b[0m\n\u001b[1;32m      7\u001b[0m         combined[\u001b[38;5;124m'\u001b[39m\u001b[38;5;124mscore\u001b[39m\u001b[38;5;124m'\u001b[39m]\u001b[38;5;241m.\u001b[39mextend(chunk[\u001b[38;5;124m'\u001b[39m\u001b[38;5;124mscore\u001b[39m\u001b[38;5;124m'\u001b[39m])\n\u001b[1;32m      8\u001b[0m     \u001b[38;5;28;01mreturn\u001b[39;00m combined\n\u001b[1;32m     10\u001b[0m processed_chunks \u001b[38;5;241m=\u001b[39m [\n\u001b[0;32m---> 11\u001b[0m     \u001b[43mprocessed_chunk_1\u001b[49m,\n\u001b[1;32m     12\u001b[0m     processed_chunk_2,\n\u001b[1;32m     13\u001b[0m     processed_chunk_3,\n\u001b[1;32m     14\u001b[0m     processed_chunk_4,\n\u001b[1;32m     15\u001b[0m     processed_chunk_5,\n\u001b[1;32m     16\u001b[0m     processed_chunk_6,\n\u001b[1;32m     17\u001b[0m     processed_chunk_7,\n\u001b[1;32m     18\u001b[0m     processed_chunk_8,\n\u001b[1;32m     19\u001b[0m     processed_chunk_9,\n\u001b[1;32m     20\u001b[0m     processed_chunk_10\n\u001b[1;32m     21\u001b[0m ]\n",
      "\u001b[0;31mNameError\u001b[0m: name 'processed_chunk_1' is not defined"
     ]
    }
   ],
   "source": [
    "# Recombine the processed chunks into one dataset\n",
    "def combine_chunks(chunks):\n",
    "    combined = {'text1': [], 'text2': [], 'score': []}\n",
    "    for chunk in chunks:\n",
    "        combined['text1'].extend(chunk['text1'])\n",
    "        combined['text2'].extend(chunk['text2'])\n",
    "        combined['score'].extend(chunk['score'])\n",
    "    return combined\n",
    "\n",
    "processed_chunks = [\n",
    "    processed_chunk_1,\n",
    "    processed_chunk_2,\n",
    "    processed_chunk_3,\n",
    "    processed_chunk_4,\n",
    "    processed_chunk_5,\n",
    "    processed_chunk_6,\n",
    "    processed_chunk_7,\n",
    "    processed_chunk_8,\n",
    "    processed_chunk_9,\n",
    "    processed_chunk_10\n",
    "]"
   ]
  },
  {
   "cell_type": "code",
   "execution_count": 10,
   "id": "029f3ca8-b955-4f74-8f8c-949be5b48d78",
   "metadata": {},
   "outputs": [],
   "source": [
    "train_chunks = split_into_chunks(train, 10)"
   ]
  },
  {
   "cell_type": "code",
   "execution_count": null,
   "id": "5c0ec50d-4ced-420f-baff-9a0fb5ffd290",
   "metadata": {},
   "outputs": [
    {
     "data": {
      "application/vnd.jupyter.widget-view+json": {
       "model_id": "d5947d763cb242b2bfa3ef7eed3dd63d",
       "version_major": 2,
       "version_minor": 0
      },
      "text/plain": [
       "Processing text1:   0%|          | 0/32528 [00:00<?, ?it/s]"
      ]
     },
     "metadata": {},
     "output_type": "display_data"
    },
    {
     "name": "stderr",
     "output_type": "stream",
     "text": [
      "IOPub message rate exceeded.\n",
      "The Jupyter server will temporarily stop sending output\n",
      "to the client in order to avoid crashing it.\n",
      "To change this limit, set the config variable\n",
      "`--ServerApp.iopub_msg_rate_limit`.\n",
      "\n",
      "Current values:\n",
      "ServerApp.iopub_msg_rate_limit=1000.0 (msgs/sec)\n",
      "ServerApp.rate_limit_window=3.0 (secs)\n",
      "\n"
     ]
    },
    {
     "data": {
      "application/vnd.jupyter.widget-view+json": {
       "model_id": "8cb3edd28e134aa3bb56f513fc9ca1c7",
       "version_major": 2,
       "version_minor": 0
      },
      "text/plain": [
       "Processing text2:   0%|          | 0/32528 [00:00<?, ?it/s]"
      ]
     },
     "metadata": {},
     "output_type": "display_data"
    }
   ],
   "source": [
    "processed_chunk_8 = preprocess_function(train_chunks[7])"
   ]
  },
  {
   "cell_type": "code",
   "execution_count": null,
   "id": "43cd66a7-bece-4475-86fc-4ab0c141c154",
   "metadata": {},
   "outputs": [],
   "source": [
    "with open('trainchunk7.pkl', 'wb') as f:\n",
    "    pickle.dump(processed_chunk_8, f)"
   ]
  },
  {
   "cell_type": "code",
   "execution_count": null,
   "id": "02147785-a841-426d-a04d-0715008f9e1a",
   "metadata": {},
   "outputs": [],
   "source": [
    "processed_chunk_6 = preprocess_function(train_chunks[5])"
   ]
  },
  {
   "cell_type": "code",
   "execution_count": null,
   "id": "db98e4f4-2241-44c4-b640-59e883390cc7",
   "metadata": {},
   "outputs": [],
   "source": [
    "print(1)"
   ]
  },
  {
   "cell_type": "code",
   "execution_count": null,
   "id": "e028a37e-2e76-4709-8fb5-4e14f52a2bae",
   "metadata": {},
   "outputs": [],
   "source": [
    "with open('trainchunk5.pkl', 'wb') as f:\n",
    "    pickle.dump(processed_chunk_6, f)"
   ]
  }
 ],
 "metadata": {
  "kernelspec": {
   "display_name": "Python 3 (ipykernel)",
   "language": "python",
   "name": "python3"
  },
  "language_info": {
   "codemirror_mode": {
    "name": "ipython",
    "version": 3
   },
   "file_extension": ".py",
   "mimetype": "text/x-python",
   "name": "python",
   "nbconvert_exporter": "python",
   "pygments_lexer": "ipython3",
   "version": "3.10.12"
  }
 },
 "nbformat": 4,
 "nbformat_minor": 5
}
